{
 "cells": [
  {
   "cell_type": "code",
   "execution_count": 1,
   "metadata": {
    "collapsed": true,
    "pycharm": {
     "name": "#%%\n"
    }
   },
   "outputs": [],
   "source": [
    "from rdflib import URIRef, Literal\n",
    "from rdflib import Graph as RDFGraph\n",
    "from rdflib.extras.external_graph_libs import rdflib_to_networkx_graph\n",
    "import pandas as pd\n",
    "from pprint import pprint\n",
    "import networkx as nx\n",
    "import seaborn as sns\n",
    "import matplotlib.pyplot as plt"
   ]
  },
  {
   "cell_type": "code",
   "execution_count": 2,
   "outputs": [
    {
     "data": {
      "text/plain": "<Graph identifier=Nf6a20f36a0c94b20852477f5516e69d7 (<class 'rdflib.graph.Graph'>)>"
     },
     "execution_count": 2,
     "metadata": {},
     "output_type": "execute_result"
    }
   ],
   "source": [
    "graph = RDFGraph()\n",
    "graph.parse('./data/imdb-1m.ttl', format=\"turtle\")"
   ],
   "metadata": {
    "collapsed": false,
    "pycharm": {
     "name": "#%%\n"
    }
   }
  },
  {
   "cell_type": "code",
   "execution_count": 3,
   "outputs": [],
   "source": [
    "all_people = graph.query(\"\"\"\n",
    "SELECT ?actor\n",
    "WHERE {\n",
    "    ?actor a schema:Person .\n",
    "}\n",
    "\"\"\")"
   ],
   "metadata": {
    "collapsed": false,
    "pycharm": {
     "name": "#%%\n"
    }
   }
  },
  {
   "cell_type": "code",
   "execution_count": 4,
   "outputs": [
    {
     "name": "stdout",
     "output_type": "stream",
     "text": [
      "114821\n"
     ]
    }
   ],
   "source": [
    "print(len(all_people))"
   ],
   "metadata": {
    "collapsed": false,
    "pycharm": {
     "name": "#%%\n"
    }
   }
  },
  {
   "cell_type": "code",
   "execution_count": 5,
   "outputs": [],
   "source": [
    "all_movies = graph.query(\"\"\"\n",
    "SELECT ?movie\n",
    "WHERE {\n",
    "    ?movie a schema:Movie\n",
    "}\n",
    "\"\"\")"
   ],
   "metadata": {
    "collapsed": false,
    "pycharm": {
     "name": "#%%\n"
    }
   }
  },
  {
   "cell_type": "code",
   "execution_count": 6,
   "outputs": [
    {
     "name": "stdout",
     "output_type": "stream",
     "text": [
      "Found 3839 movies, 95.975% of original dataset\n"
     ]
    }
   ],
   "source": [
    "print(f\"Found {len(all_movies)} movies, {len(all_movies)/40}% of original dataset\")"
   ],
   "metadata": {
    "collapsed": false,
    "pycharm": {
     "name": "#%%\n"
    }
   }
  },
  {
   "cell_type": "code",
   "execution_count": 7,
   "outputs": [],
   "source": [
    "all_actors = graph.query(\"\"\"\n",
    "SELECT ?actor (count(?actor) as ?count)\n",
    "WHERE {\n",
    "    ?movie a schema:Movie .\n",
    "    ?movie schema:Actor ?actor\n",
    "}\n",
    "GROUP BY ?actor\n",
    "\"\"\")"
   ],
   "metadata": {
    "collapsed": false,
    "pycharm": {
     "name": "#%%\n"
    }
   }
  },
  {
   "cell_type": "code",
   "execution_count": 8,
   "outputs": [
    {
     "data": {
      "text/plain": "100321"
     },
     "execution_count": 8,
     "metadata": {},
     "output_type": "execute_result"
    }
   ],
   "source": [
    "len(all_actors)"
   ],
   "metadata": {
    "collapsed": false,
    "pycharm": {
     "name": "#%%\n"
    }
   }
  },
  {
   "cell_type": "code",
   "execution_count": 9,
   "outputs": [
    {
     "name": "stdout",
     "output_type": "stream",
     "text": [
      "{1: 75164,\n",
      " 2: 12537,\n",
      " 3: 4942,\n",
      " 4: 2611,\n",
      " 5: 1470,\n",
      " 6: 948,\n",
      " 7: 677,\n",
      " 8: 438,\n",
      " 9: 353,\n",
      " 10: 234,\n",
      " 11: 214,\n",
      " 12: 159,\n",
      " 13: 118,\n",
      " 14: 79,\n",
      " 15: 70,\n",
      " 16: 73,\n",
      " 17: 49,\n",
      " 18: 45,\n",
      " 19: 32,\n",
      " 20: 22,\n",
      " 21: 13,\n",
      " 22: 6,\n",
      " 23: 12,\n",
      " 24: 10,\n",
      " 25: 8,\n",
      " 26: 9,\n",
      " 27: 3,\n",
      " 28: 3,\n",
      " 29: 2,\n",
      " 30: 1,\n",
      " 31: 3,\n",
      " 32: 2,\n",
      " 33: 2,\n",
      " 34: 4,\n",
      " 35: 1,\n",
      " 40: 1,\n",
      " 41: 2,\n",
      " 45: 1,\n",
      " 51: 1,\n",
      " 53: 1,\n",
      " 60: 1}\n"
     ]
    },
    {
     "data": {
      "text/plain": "<AxesSubplot:>"
     },
     "execution_count": 9,
     "metadata": {},
     "output_type": "execute_result"
    },
    {
     "data": {
      "text/plain": "<Figure size 1080x360 with 2 Axes>",
      "image/png": "[encoded data removed]"
     },
     "metadata": {},
     "output_type": "display_data"
    }
   ],
   "source": [
    "actor_movies_count = {}\n",
    "for uri, movies in all_actors:\n",
    "    if int(movies) not in actor_movies_count.keys():\n",
    "        actor_movies_count[int(movies)] = 1\n",
    "    else:\n",
    "        actor_movies_count[int(movies)] += 1\n",
    "pprint(actor_movies_count)\n",
    "\n",
    "fig, ax = plt.subplots(1,2, figsize=(20, 5))\n",
    "sns.lineplot(data=actor_movies_count, ax=ax[0])\n",
    "actor_movies_count.pop(1)\n",
    "sns.lineplot(data=actor_movies_count, ax=ax[1])\n"
   ],
   "metadata": {
    "collapsed": false,
    "pycharm": {
     "name": "#%%\n"
    }
   }
  },
  {
   "cell_type": "code",
   "execution_count": 10,
   "outputs": [],
   "source": [
    "movies_with_actors = graph.query(\"\"\"\n",
    "SELECT ?movie (count(?actor) as ?count)\n",
    "WHERE {\n",
    "    ?movie a schema:Movie .\n",
    "    ?movie schema:Actor ?actor\n",
    "}\n",
    "GROUP BY ?movie\n",
    "\"\"\")"
   ],
   "metadata": {
    "collapsed": false,
    "pycharm": {
     "name": "#%%\n"
    }
   }
  },
  {
   "cell_type": "code",
   "execution_count": 11,
   "outputs": [
    {
     "name": "stdout",
     "output_type": "stream",
     "text": [
      "https://www.imdb.com/title/tt0048960: 1304\n",
      "https://www.imdb.com/title/tt0051994: 365\n",
      "https://www.imdb.com/title/tt0104797: 354\n",
      "Removing 83 movies with 1 actor.\n"
     ]
    }
   ],
   "source": [
    "movies_by_actor = {}\n",
    "for movie, actors in movies_with_actors:\n",
    "    if int(actors) > 300:\n",
    "        print(f\"{movie}: {actors}\")\n",
    "        continue\n",
    "    if int(actors) not in movies_by_actor.keys():\n",
    "        movies_by_actor[int(actors)] = 1\n",
    "    else:\n",
    "        movies_by_actor[int(actors)] += 1\n",
    "\n",
    "print(f\"Removing {movies_by_actor.pop(1)} movies with 1 actor.\")\n",
    "for movie, actors in movies_with_actors:\n",
    "    if int(actors) > 300 or int(actors) == 1:\n",
    "        if movie in movies_by_actor.keys():\n",
    "            movies_by_actor.pop(movie)\n"
   ],
   "metadata": {
    "collapsed": false,
    "pycharm": {
     "name": "#%%\n"
    }
   }
  },
  {
   "cell_type": "code",
   "execution_count": 12,
   "outputs": [
    {
     "data": {
      "text/plain": "<AxesSubplot:ylabel='Count'>"
     },
     "execution_count": 12,
     "metadata": {},
     "output_type": "execute_result"
    },
    {
     "data": {
      "text/plain": "<Figure size 1080x360 with 2 Axes>",
      "image/png": "[encoded data removed]"
     },
     "metadata": {},
     "output_type": "display_data"
    }
   ],
   "source": [
    "fig, ax = plt.subplots(1, 2, figsize=(15, 5))\n",
    "sns.histplot(data=[key for key, val in movies_by_actor.items() for _ in range(val)], ax=ax[0])\n",
    "sns.histplot(data=[key for key, val in movies_by_actor.items() for _ in range(val) if key < 150], bins=30, ax=ax[1])"
   ],
   "metadata": {
    "collapsed": false,
    "pycharm": {
     "name": "#%%\n"
    }
   }
  },
  {
   "cell_type": "code",
   "execution_count": 18,
   "outputs": [
    {
     "name": "stdout",
     "output_type": "stream",
     "text": [
      "<class 'pandas.core.frame.DataFrame'>\n",
      "Index: 3573 entries, https://www.imdb.com/title/tt0010418 to https://www.imdb.com/title/tt9853992\n",
      "Columns: 3597 entries, https://www.imdb.com/name/nm0000036 to https://www.imdb.com/name/nm7466455\n",
      "dtypes: Sparse[float64, nan](3597)\n",
      "memory usage: 27.9+ KB\n"
     ]
    }
   ],
   "source": [
    "actor_df = pd.DataFrame(\n",
    "    dtype=pd.SparseDtype(), columns=[m for m, a in movies_with_actors if 2 < int(a) < 300],\n",
    "    index=[a for a, m in all_actors if int(m) > 5]\n",
    ")\n",
    "actor_dft = actor_df.transpose()\n",
    "actor_dft.info()"
   ],
   "metadata": {
    "collapsed": false,
    "pycharm": {
     "name": "#%%\n"
    }
   }
  },
  {
   "cell_type": "code",
   "execution_count": 19,
   "outputs": [],
   "source": [
    "df = actor_df.dot(actor_dft).astype(pd.SparseDtype())"
   ],
   "metadata": {
    "collapsed": false,
    "pycharm": {
     "name": "#%%\n"
    }
   }
  },
  {
   "cell_type": "code",
   "execution_count": 20,
   "outputs": [
    {
     "name": "stdout",
     "output_type": "stream",
     "text": [
      "<class 'pandas.core.frame.DataFrame'>\n",
      "Index: 3597 entries, https://www.imdb.com/name/nm0000036 to https://www.imdb.com/name/nm7466455\n",
      "Columns: 3597 entries, https://www.imdb.com/name/nm0000036 to https://www.imdb.com/name/nm7466455\n",
      "dtypes: Sparse[float64, nan](3597)\n",
      "memory usage: 157.1+ KB\n"
     ]
    }
   ],
   "source": [
    "df.info()"
   ],
   "metadata": {
    "collapsed": false,
    "pycharm": {
     "name": "#%%\n"
    }
   }
  },
  {
   "cell_type": "code",
   "execution_count": 21,
   "outputs": [],
   "source": [
    "g_movies = nx.from_pandas_adjacency(df)"
   ],
   "metadata": {
    "collapsed": false,
    "pycharm": {
     "name": "#%%\n"
    }
   }
  },
  {
   "cell_type": "code",
   "execution_count": 23,
   "outputs": [],
   "source": [
    "nx.write_graphml(g_movies, './data/actor_adjacency.graphml')"
   ],
   "metadata": {
    "collapsed": false,
    "pycharm": {
     "name": "#%%\n"
    }
   }
  }
 ],
 "metadata": {
  "kernelspec": {
   "display_name": "Python 3",
   "language": "python",
   "name": "python3"
  },
  "language_info": {
   "codemirror_mode": {
    "name": "ipython",
    "version": 2
   },
   "file_extension": ".py",
   "mimetype": "text/x-python",
   "name": "python",
   "nbconvert_exporter": "python",
   "pygments_lexer": "ipython2",
   "version": "2.7.6"
  }
 },
 "nbformat": 4,
 "nbformat_minor": 0
}