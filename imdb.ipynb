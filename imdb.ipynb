{
 "cells": [
  {
   "cell_type": "code",
   "execution_count": 1,
   "metadata": {
    "collapsed": true
   },
   "outputs": [],
   "source": [
    "from rdflib import URIRef, Literal\n",
    "from rdflib import Graph as RDFGraph\n",
    "from rdflib.extras.external_graph_libs import rdflib_to_networkx_graph\n",
    "import pandas as pd\n",
    "from pprint import pprint\n",
    "import networkx as nx\n",
    "import seaborn as sns\n",
    "import matplotlib.pyplot as plt"
   ]
  },
  {
   "cell_type": "code",
   "execution_count": 2,
   "outputs": [
    {
     "data": {
      "text/plain": "<Graph identifier=Nb3a89b9af0ea42a9a8df5c3ba4902733 (<class 'rdflib.graph.Graph'>)>"
     },
     "execution_count": 2,
     "metadata": {},
     "output_type": "execute_result"
    }
   ],
   "source": [
    "graph = RDFGraph()\n",
    "graph.parse('./data/imdb-1m.ttl', format=\"turtle\")"
   ],
   "metadata": {
    "collapsed": false,
    "pycharm": {
     "name": "#%%\n"
    }
   }
  },
  {
   "cell_type": "code",
   "execution_count": 4,
   "outputs": [],
   "source": [
    "all_people = graph.query(\"\"\"\n",
    "SELECT ?actor\n",
    "WHERE {\n",
    "    ?actor a schema:Person .\n",
    "}\n",
    "\"\"\")"
   ],
   "metadata": {
    "collapsed": false,
    "pycharm": {
     "name": "#%%\n"
    }
   }
  },
  {
   "cell_type": "code",
   "execution_count": 5,
   "outputs": [
    {
     "name": "stdout",
     "output_type": "stream",
     "text": [
      "114821\n"
     ]
    }
   ],
   "source": [
    "print(len(all_people))"
   ],
   "metadata": {
    "collapsed": false,
    "pycharm": {
     "name": "#%%\n"
    }
   }
  },
  {
   "cell_type": "code",
   "execution_count": 6,
   "outputs": [],
   "source": [
    "all_movies = graph.query(\"\"\"\n",
    "SELECT ?movie\n",
    "WHERE {\n",
    "    ?movie a schema:Movie\n",
    "}\n",
    "\"\"\")"
   ],
   "metadata": {
    "collapsed": false,
    "pycharm": {
     "name": "#%%\n"
    }
   }
  },
  {
   "cell_type": "code",
   "execution_count": 15,
   "outputs": [
    {
     "name": "stdout",
     "output_type": "stream",
     "text": [
      "Found 3839 movies, 95.975% of original dataset\n"
     ]
    }
   ],
   "source": [
    "print(f\"Found {len(all_movies)} movies, {len(all_movies)/40}% of original dataset\")"
   ],
   "metadata": {
    "collapsed": false,
    "pycharm": {
     "name": "#%%\n"
    }
   }
  },
  {
   "cell_type": "code",
   "execution_count": 8,
   "outputs": [],
   "source": [
    "all_actors = graph.query(\"\"\"\n",
    "SELECT ?actor (count(?actor) as ?count)\n",
    "WHERE {\n",
    "    ?movie a schema:Movie .\n",
    "    ?movie schema:Actor ?actor\n",
    "}\n",
    "GROUP BY ?actor\n",
    "\"\"\")"
   ],
   "metadata": {
    "collapsed": false,
    "pycharm": {
     "name": "#%%\n"
    }
   }
  },
  {
   "cell_type": "code",
   "execution_count": 9,
   "outputs": [
    {
     "data": {
      "text/plain": "100321"
     },
     "execution_count": 9,
     "metadata": {},
     "output_type": "execute_result"
    }
   ],
   "source": [
    "len(all_actors)"
   ],
   "metadata": {
    "collapsed": false,
    "pycharm": {
     "name": "#%%\n"
    }
   }
  },
  {
   "cell_type": "code",
   "execution_count": 10,
   "outputs": [
    {
     "name": "stdout",
     "output_type": "stream",
     "text": [
      "{1: 75164,\n",
      " 2: 12537,\n",
      " 3: 4942,\n",
      " 4: 2611,\n",
      " 5: 1470,\n",
      " 6: 948,\n",
      " 7: 677,\n",
      " 8: 438,\n",
      " 9: 353,\n",
      " 10: 234,\n",
      " 11: 214,\n",
      " 12: 159,\n",
      " 13: 118,\n",
      " 14: 79,\n",
      " 15: 70,\n",
      " 16: 73,\n",
      " 17: 49,\n",
      " 18: 45,\n",
      " 19: 32,\n",
      " 20: 22,\n",
      " 21: 13,\n",
      " 22: 6,\n",
      " 23: 12,\n",
      " 24: 10,\n",
      " 25: 8,\n",
      " 26: 9,\n",
      " 27: 3,\n",
      " 28: 3,\n",
      " 29: 2,\n",
      " 30: 1,\n",
      " 31: 3,\n",
      " 32: 2,\n",
      " 33: 2,\n",
      " 34: 4,\n",
      " 35: 1,\n",
      " 40: 1,\n",
      " 41: 2,\n",
      " 45: 1,\n",
      " 51: 1,\n",
      " 53: 1,\n",
      " 60: 1}\n"
     ]
    },
    {
     "data": {
      "text/plain": "<AxesSubplot:>"
     },
     "execution_count": 10,
     "metadata": {},
     "output_type": "execute_result"
    },
    {
     "data": {
      "text/plain": "<Figure size 1080x360 with 2 Axes>",
      "image/png": "[encoded data removed]"
     },
     "metadata": {
      "needs_background": "light"
     },
     "output_type": "display_data"
    }
   ],
   "source": [
    "actor_movies_count = {}\n",
    "for uri, movies in all_actors:\n",
    "    if int(movies) not in actor_movies_count.keys():\n",
    "        actor_movies_count[int(movies)] = 1\n",
    "    else:\n",
    "        actor_movies_count[int(movies)] += 1\n",
    "pprint(actor_movies_count)\n",
    "\n",
    "fig, ax = plt.subplots(1,2, figsize=(15, 5))\n",
    "sns.lineplot(data=actor_movies_count, ax=ax[0])\n",
    "actor_movies_count.pop(1)\n",
    "sns.lineplot(data=actor_movies_count, ax=ax[1])\n"
   ],
   "metadata": {
    "collapsed": false,
    "pycharm": {
     "name": "#%%\n"
    }
   }
  },
  {
   "cell_type": "code",
   "execution_count": 11,
   "outputs": [],
   "source": [
    "movies_with_actors = graph.query(\"\"\"\n",
    "SELECT ?movie (count(?actor) as ?count)\n",
    "WHERE {\n",
    "    ?movie a schema:Movie .\n",
    "    ?movie schema:Actor ?actor\n",
    "}\n",
    "GROUP BY ?movie\n",
    "\"\"\")"
   ],
   "metadata": {
    "collapsed": false,
    "pycharm": {
     "name": "#%%\n"
    }
   }
  },
  {
   "cell_type": "code",
   "execution_count": 27,
   "outputs": [
    {
     "name": "stdout",
     "output_type": "stream",
     "text": [
      "https://www.imdb.com/title/tt0048960: 1304\n",
      "https://www.imdb.com/title/tt0051994: 365\n",
      "https://www.imdb.com/title/tt0104797: 354\n",
      "Removing 83 movies with 1 actor.\n"
     ]
    }
   ],
   "source": [
    "movies_by_actor = {}\n",
    "for movie, actors in movies_with_actors:\n",
    "    if int(actors) > 300:\n",
    "        print(f\"{movie}: {actors}\")\n",
    "        continue\n",
    "    if int(actors) not in movies_by_actor.keys():\n",
    "        movies_by_actor[int(actors)] = 1\n",
    "    else:\n",
    "        movies_by_actor[int(actors)] += 1\n",
    "\n",
    "print(f\"Removing {movies_by_actor.pop(1)} movies with 1 actor.\")\n",
    "for movie, actors in movies_with_actors:\n",
    "    if int(actors) > 300 or int(actors) == 1:\n",
    "        if movie in movies_by_actor.keys():\n",
    "            movies_by_actor.pop(movie)\n"
   ],
   "metadata": {
    "collapsed": false,
    "pycharm": {
     "name": "#%%\n"
    }
   }
  },
  {
   "cell_type": "code",
   "execution_count": 28,
   "outputs": [
    {
     "data": {
      "text/plain": "<AxesSubplot:ylabel='Count'>"
     },
     "execution_count": 28,
     "metadata": {},
     "output_type": "execute_result"
    },
    {
     "data": {
      "text/plain": "<Figure size 1080x360 with 2 Axes>",
      "image/png": "[encoded data removed]"
     },
     "metadata": {
      "needs_background": "light"
     },
     "output_type": "display_data"
    }
   ],
   "source": [
    "fig, ax = plt.subplots(1, 2, figsize=(15, 5))\n",
    "sns.histplot(data=[key for key, val in movies_by_actor.items() for _ in range(val)], ax=ax[0])\n",
    "sns.histplot(data=[key for key, val in movies_by_actor.items() for _ in range(val) if key < 150], bins=30, ax=ax[1])"
   ],
   "metadata": {
    "collapsed": false,
    "pycharm": {
     "name": "#%%\n"
    }
   }
  },
  {
   "cell_type": "code",
   "execution_count": 56,
   "outputs": [
    {
     "name": "stdout",
     "output_type": "stream",
     "text": [
      "<class 'pandas.core.frame.DataFrame'>\n",
      "Index: 3573 entries, https://www.imdb.com/title/tt0010418 to https://www.imdb.com/title/tt9853992\n",
      "Columns: 12620 entries, https://www.imdb.com/name/nm0269671 to https://www.imdb.com/name/nm7466455\n",
      "dtypes: Sparse[float64, nan](12620)\n",
      "memory usage: 27.9+ KB\n"
     ]
    }
   ],
   "source": [
    "actor_df = pd.DataFrame(\n",
    "    dtype=pd.SparseDtype(), columns=[m for m, a in movies_with_actors if 2 < int(a) < 300],\n",
    "    index=[a for a, m in all_actors if int(m) > 2]\n",
    ")\n",
    "actor_dft = actor_df.transpose()\n",
    "actor_dft.info()"
   ],
   "metadata": {
    "collapsed": false,
    "pycharm": {
     "name": "#%%\n"
    }
   }
  },
  {
   "cell_type": "code",
   "execution_count": 57,
   "outputs": [],
   "source": [
    "df = actor_df.dot(actor_dft).astype(pd.SparseDtype())"
   ],
   "metadata": {
    "collapsed": false,
    "pycharm": {
     "name": "#%%\n"
    }
   }
  },
  {
   "cell_type": "code",
   "execution_count": 59,
   "outputs": [
    {
     "name": "stdout",
     "output_type": "stream",
     "text": [
      "<class 'pandas.core.frame.DataFrame'>\n",
      "Index: 12620 entries, https://www.imdb.com/name/nm0269671 to https://www.imdb.com/name/nm7466455\n",
      "Columns: 12620 entries, https://www.imdb.com/name/nm0269671 to https://www.imdb.com/name/nm7466455\n",
      "dtypes: Sparse[float64, nan](12620)\n",
      "memory usage: 614.6+ KB\n"
     ]
    }
   ],
   "source": [
    "df.info()"
   ],
   "metadata": {
    "collapsed": false,
    "pycharm": {
     "name": "#%%\n"
    }
   }
  },
  {
   "cell_type": "code",
   "execution_count": 60,
   "outputs": [
    {
     "name": "stderr",
     "output_type": "stream",
     "text": [
      "c:\\users\\jana\\documents\\skola\\data_visualisation\\imdb-visualisation\\venv\\lib\\site-packages\\pandas\\core\\arrays\\sparse\\array.py:1516: RuntimeWarning: invalid value encountered in double_scalars\n",
      "  return sp_sum / ct\n"
     ]
    },
    {
     "ename": "TypeError",
     "evalue": "cannot perform std with type Sparse[float64, nan]",
     "output_type": "error",
     "traceback": [
      "\u001B[1;31m---------------------------------------------------------------------------\u001B[0m",
      "\u001B[1;31mTypeError\u001B[0m                                 Traceback (most recent call last)",
      "Input \u001B[1;32mIn [60]\u001B[0m, in \u001B[0;36m<cell line: 1>\u001B[1;34m()\u001B[0m\n\u001B[1;32m----> 1\u001B[0m \u001B[43mdf\u001B[49m\u001B[38;5;241;43m.\u001B[39;49m\u001B[43mdescribe\u001B[49m\u001B[43m(\u001B[49m\u001B[43m)\u001B[49m\n",
      "File \u001B[1;32mc:\\users\\jana\\documents\\skola\\data_visualisation\\imdb-visualisation\\venv\\lib\\site-packages\\pandas\\core\\generic.py:10225\u001B[0m, in \u001B[0;36mNDFrame.describe\u001B[1;34m(self, percentiles, include, exclude, datetime_is_numeric)\u001B[0m\n\u001B[0;32m   9976\u001B[0m \u001B[38;5;129m@final\u001B[39m\n\u001B[0;32m   9977\u001B[0m \u001B[38;5;28;01mdef\u001B[39;00m \u001B[38;5;21mdescribe\u001B[39m(\n\u001B[0;32m   9978\u001B[0m     \u001B[38;5;28mself\u001B[39m: NDFrameT,\n\u001B[1;32m   (...)\u001B[0m\n\u001B[0;32m   9982\u001B[0m     datetime_is_numeric\u001B[38;5;241m=\u001B[39m\u001B[38;5;28;01mFalse\u001B[39;00m,\n\u001B[0;32m   9983\u001B[0m ) \u001B[38;5;241m-\u001B[39m\u001B[38;5;241m>\u001B[39m NDFrameT:\n\u001B[0;32m   9984\u001B[0m     \u001B[38;5;124;03m\"\"\"\u001B[39;00m\n\u001B[0;32m   9985\u001B[0m \u001B[38;5;124;03m    Generate descriptive statistics.\u001B[39;00m\n\u001B[0;32m   9986\u001B[0m \n\u001B[1;32m   (...)\u001B[0m\n\u001B[0;32m  10223\u001B[0m \u001B[38;5;124;03m    max            NaN      3.0\u001B[39;00m\n\u001B[0;32m  10224\u001B[0m \u001B[38;5;124;03m    \"\"\"\u001B[39;00m\n\u001B[1;32m> 10225\u001B[0m     \u001B[38;5;28;01mreturn\u001B[39;00m \u001B[43mdescribe_ndframe\u001B[49m\u001B[43m(\u001B[49m\n\u001B[0;32m  10226\u001B[0m \u001B[43m        \u001B[49m\u001B[43mobj\u001B[49m\u001B[38;5;241;43m=\u001B[39;49m\u001B[38;5;28;43mself\u001B[39;49m\u001B[43m,\u001B[49m\n\u001B[0;32m  10227\u001B[0m \u001B[43m        \u001B[49m\u001B[43minclude\u001B[49m\u001B[38;5;241;43m=\u001B[39;49m\u001B[43minclude\u001B[49m\u001B[43m,\u001B[49m\n\u001B[0;32m  10228\u001B[0m \u001B[43m        \u001B[49m\u001B[43mexclude\u001B[49m\u001B[38;5;241;43m=\u001B[39;49m\u001B[43mexclude\u001B[49m\u001B[43m,\u001B[49m\n\u001B[0;32m  10229\u001B[0m \u001B[43m        \u001B[49m\u001B[43mdatetime_is_numeric\u001B[49m\u001B[38;5;241;43m=\u001B[39;49m\u001B[43mdatetime_is_numeric\u001B[49m\u001B[43m,\u001B[49m\n\u001B[0;32m  10230\u001B[0m \u001B[43m        \u001B[49m\u001B[43mpercentiles\u001B[49m\u001B[38;5;241;43m=\u001B[39;49m\u001B[43mpercentiles\u001B[49m\u001B[43m,\u001B[49m\n\u001B[0;32m  10231\u001B[0m \u001B[43m    \u001B[49m\u001B[43m)\u001B[49m\n",
      "File \u001B[1;32mc:\\users\\jana\\documents\\skola\\data_visualisation\\imdb-visualisation\\venv\\lib\\site-packages\\pandas\\core\\describe.py:94\u001B[0m, in \u001B[0;36mdescribe_ndframe\u001B[1;34m(obj, include, exclude, datetime_is_numeric, percentiles)\u001B[0m\n\u001B[0;32m     86\u001B[0m \u001B[38;5;28;01melse\u001B[39;00m:\n\u001B[0;32m     87\u001B[0m     describer \u001B[38;5;241m=\u001B[39m DataFrameDescriber(\n\u001B[0;32m     88\u001B[0m         obj\u001B[38;5;241m=\u001B[39mcast(\u001B[38;5;124m\"\u001B[39m\u001B[38;5;124mDataFrame\u001B[39m\u001B[38;5;124m\"\u001B[39m, obj),\n\u001B[0;32m     89\u001B[0m         include\u001B[38;5;241m=\u001B[39minclude,\n\u001B[0;32m     90\u001B[0m         exclude\u001B[38;5;241m=\u001B[39mexclude,\n\u001B[0;32m     91\u001B[0m         datetime_is_numeric\u001B[38;5;241m=\u001B[39mdatetime_is_numeric,\n\u001B[0;32m     92\u001B[0m     )\n\u001B[1;32m---> 94\u001B[0m result \u001B[38;5;241m=\u001B[39m \u001B[43mdescriber\u001B[49m\u001B[38;5;241;43m.\u001B[39;49m\u001B[43mdescribe\u001B[49m\u001B[43m(\u001B[49m\u001B[43mpercentiles\u001B[49m\u001B[38;5;241;43m=\u001B[39;49m\u001B[43mpercentiles\u001B[49m\u001B[43m)\u001B[49m\n\u001B[0;32m     95\u001B[0m \u001B[38;5;28;01mreturn\u001B[39;00m cast(NDFrameT, result)\n",
      "File \u001B[1;32mc:\\users\\jana\\documents\\skola\\data_visualisation\\imdb-visualisation\\venv\\lib\\site-packages\\pandas\\core\\describe.py:174\u001B[0m, in \u001B[0;36mDataFrameDescriber.describe\u001B[1;34m(self, percentiles)\u001B[0m\n\u001B[0;32m    172\u001B[0m \u001B[38;5;28;01mfor\u001B[39;00m _, series \u001B[38;5;129;01min\u001B[39;00m data\u001B[38;5;241m.\u001B[39mitems():\n\u001B[0;32m    173\u001B[0m     describe_func \u001B[38;5;241m=\u001B[39m select_describe_func(series, \u001B[38;5;28mself\u001B[39m\u001B[38;5;241m.\u001B[39mdatetime_is_numeric)\n\u001B[1;32m--> 174\u001B[0m     ldesc\u001B[38;5;241m.\u001B[39mappend(\u001B[43mdescribe_func\u001B[49m\u001B[43m(\u001B[49m\u001B[43mseries\u001B[49m\u001B[43m,\u001B[49m\u001B[43m \u001B[49m\u001B[43mpercentiles\u001B[49m\u001B[43m)\u001B[49m)\n\u001B[0;32m    176\u001B[0m col_names \u001B[38;5;241m=\u001B[39m reorder_columns(ldesc)\n\u001B[0;32m    177\u001B[0m d \u001B[38;5;241m=\u001B[39m concat(\n\u001B[0;32m    178\u001B[0m     [x\u001B[38;5;241m.\u001B[39mreindex(col_names, copy\u001B[38;5;241m=\u001B[39m\u001B[38;5;28;01mFalse\u001B[39;00m) \u001B[38;5;28;01mfor\u001B[39;00m x \u001B[38;5;129;01min\u001B[39;00m ldesc],\n\u001B[0;32m    179\u001B[0m     axis\u001B[38;5;241m=\u001B[39m\u001B[38;5;241m1\u001B[39m,\n\u001B[0;32m    180\u001B[0m     sort\u001B[38;5;241m=\u001B[39m\u001B[38;5;28;01mFalse\u001B[39;00m,\n\u001B[0;32m    181\u001B[0m )\n",
      "File \u001B[1;32mc:\\users\\jana\\documents\\skola\\data_visualisation\\imdb-visualisation\\venv\\lib\\site-packages\\pandas\\core\\describe.py:240\u001B[0m, in \u001B[0;36mdescribe_numeric_1d\u001B[1;34m(series, percentiles)\u001B[0m\n\u001B[0;32m    236\u001B[0m formatted_percentiles \u001B[38;5;241m=\u001B[39m format_percentiles(percentiles)  \u001B[38;5;66;03m# type: ignore[arg-type]\u001B[39;00m\n\u001B[0;32m    238\u001B[0m stat_index \u001B[38;5;241m=\u001B[39m [\u001B[38;5;124m\"\u001B[39m\u001B[38;5;124mcount\u001B[39m\u001B[38;5;124m\"\u001B[39m, \u001B[38;5;124m\"\u001B[39m\u001B[38;5;124mmean\u001B[39m\u001B[38;5;124m\"\u001B[39m, \u001B[38;5;124m\"\u001B[39m\u001B[38;5;124mstd\u001B[39m\u001B[38;5;124m\"\u001B[39m, \u001B[38;5;124m\"\u001B[39m\u001B[38;5;124mmin\u001B[39m\u001B[38;5;124m\"\u001B[39m] \u001B[38;5;241m+\u001B[39m formatted_percentiles \u001B[38;5;241m+\u001B[39m [\u001B[38;5;124m\"\u001B[39m\u001B[38;5;124mmax\u001B[39m\u001B[38;5;124m\"\u001B[39m]\n\u001B[0;32m    239\u001B[0m d \u001B[38;5;241m=\u001B[39m (\n\u001B[1;32m--> 240\u001B[0m     [series\u001B[38;5;241m.\u001B[39mcount(), series\u001B[38;5;241m.\u001B[39mmean(), \u001B[43mseries\u001B[49m\u001B[38;5;241;43m.\u001B[39;49m\u001B[43mstd\u001B[49m\u001B[43m(\u001B[49m\u001B[43m)\u001B[49m, series\u001B[38;5;241m.\u001B[39mmin()]\n\u001B[0;32m    241\u001B[0m     \u001B[38;5;241m+\u001B[39m series\u001B[38;5;241m.\u001B[39mquantile(percentiles)\u001B[38;5;241m.\u001B[39mtolist()\n\u001B[0;32m    242\u001B[0m     \u001B[38;5;241m+\u001B[39m [series\u001B[38;5;241m.\u001B[39mmax()]\n\u001B[0;32m    243\u001B[0m )\n\u001B[0;32m    244\u001B[0m \u001B[38;5;28;01mreturn\u001B[39;00m Series(d, index\u001B[38;5;241m=\u001B[39mstat_index, name\u001B[38;5;241m=\u001B[39mseries\u001B[38;5;241m.\u001B[39mname)\n",
      "File \u001B[1;32mc:\\users\\jana\\documents\\skola\\data_visualisation\\imdb-visualisation\\venv\\lib\\site-packages\\pandas\\core\\generic.py:10987\u001B[0m, in \u001B[0;36mNDFrame._add_numeric_operations.<locals>.std\u001B[1;34m(self, axis, skipna, level, ddof, numeric_only, **kwargs)\u001B[0m\n\u001B[0;32m  10967\u001B[0m \u001B[38;5;129m@doc\u001B[39m(\n\u001B[0;32m  10968\u001B[0m     _num_ddof_doc,\n\u001B[0;32m  10969\u001B[0m     desc\u001B[38;5;241m=\u001B[39m\u001B[38;5;124m\"\u001B[39m\u001B[38;5;124mReturn sample standard deviation over requested axis.\u001B[39m\u001B[38;5;124m\"\u001B[39m\n\u001B[1;32m   (...)\u001B[0m\n\u001B[0;32m  10985\u001B[0m     \u001B[38;5;241m*\u001B[39m\u001B[38;5;241m*\u001B[39mkwargs,\n\u001B[0;32m  10986\u001B[0m ):\n\u001B[1;32m> 10987\u001B[0m     \u001B[38;5;28;01mreturn\u001B[39;00m NDFrame\u001B[38;5;241m.\u001B[39mstd(\u001B[38;5;28mself\u001B[39m, axis, skipna, level, ddof, numeric_only, \u001B[38;5;241m*\u001B[39m\u001B[38;5;241m*\u001B[39mkwargs)\n",
      "File \u001B[1;32mc:\\users\\jana\\documents\\skola\\data_visualisation\\imdb-visualisation\\venv\\lib\\site-packages\\pandas\\core\\generic.py:10590\u001B[0m, in \u001B[0;36mNDFrame.std\u001B[1;34m(self, axis, skipna, level, ddof, numeric_only, **kwargs)\u001B[0m\n\u001B[0;32m  10581\u001B[0m \u001B[38;5;28;01mdef\u001B[39;00m \u001B[38;5;21mstd\u001B[39m(\n\u001B[0;32m  10582\u001B[0m     \u001B[38;5;28mself\u001B[39m,\n\u001B[0;32m  10583\u001B[0m     axis: Axis \u001B[38;5;241m|\u001B[39m \u001B[38;5;28;01mNone\u001B[39;00m \u001B[38;5;241m=\u001B[39m \u001B[38;5;28;01mNone\u001B[39;00m,\n\u001B[1;32m   (...)\u001B[0m\n\u001B[0;32m  10588\u001B[0m     \u001B[38;5;241m*\u001B[39m\u001B[38;5;241m*\u001B[39mkwargs,\n\u001B[0;32m  10589\u001B[0m ) \u001B[38;5;241m-\u001B[39m\u001B[38;5;241m>\u001B[39m Series \u001B[38;5;241m|\u001B[39m \u001B[38;5;28mfloat\u001B[39m:\n\u001B[1;32m> 10590\u001B[0m     \u001B[38;5;28;01mreturn\u001B[39;00m \u001B[38;5;28mself\u001B[39m\u001B[38;5;241m.\u001B[39m_stat_function_ddof(\n\u001B[0;32m  10591\u001B[0m         \u001B[38;5;124m\"\u001B[39m\u001B[38;5;124mstd\u001B[39m\u001B[38;5;124m\"\u001B[39m, nanops\u001B[38;5;241m.\u001B[39mnanstd, axis, skipna, level, ddof, numeric_only, \u001B[38;5;241m*\u001B[39m\u001B[38;5;241m*\u001B[39mkwargs\n\u001B[0;32m  10592\u001B[0m     )\n",
      "File \u001B[1;32mc:\\users\\jana\\documents\\skola\\data_visualisation\\imdb-visualisation\\venv\\lib\\site-packages\\pandas\\core\\generic.py:10551\u001B[0m, in \u001B[0;36mNDFrame._stat_function_ddof\u001B[1;34m(self, name, func, axis, skipna, level, ddof, numeric_only, **kwargs)\u001B[0m\n\u001B[0;32m  10541\u001B[0m     warnings\u001B[38;5;241m.\u001B[39mwarn(\n\u001B[0;32m  10542\u001B[0m         \u001B[38;5;124m\"\u001B[39m\u001B[38;5;124mUsing the level keyword in DataFrame and Series aggregations is \u001B[39m\u001B[38;5;124m\"\u001B[39m\n\u001B[0;32m  10543\u001B[0m         \u001B[38;5;124m\"\u001B[39m\u001B[38;5;124mdeprecated and will be removed in a future version. Use groupby \u001B[39m\u001B[38;5;124m\"\u001B[39m\n\u001B[1;32m   (...)\u001B[0m\n\u001B[0;32m  10546\u001B[0m         stacklevel\u001B[38;5;241m=\u001B[39mfind_stack_level(),\n\u001B[0;32m  10547\u001B[0m     )\n\u001B[0;32m  10548\u001B[0m     \u001B[38;5;28;01mreturn\u001B[39;00m \u001B[38;5;28mself\u001B[39m\u001B[38;5;241m.\u001B[39m_agg_by_level(\n\u001B[0;32m  10549\u001B[0m         name, axis\u001B[38;5;241m=\u001B[39maxis, level\u001B[38;5;241m=\u001B[39mlevel, skipna\u001B[38;5;241m=\u001B[39mskipna, ddof\u001B[38;5;241m=\u001B[39mddof\n\u001B[0;32m  10550\u001B[0m     )\n\u001B[1;32m> 10551\u001B[0m \u001B[38;5;28;01mreturn\u001B[39;00m \u001B[38;5;28;43mself\u001B[39;49m\u001B[38;5;241;43m.\u001B[39;49m\u001B[43m_reduce\u001B[49m\u001B[43m(\u001B[49m\n\u001B[0;32m  10552\u001B[0m \u001B[43m    \u001B[49m\u001B[43mfunc\u001B[49m\u001B[43m,\u001B[49m\u001B[43m \u001B[49m\u001B[43mname\u001B[49m\u001B[43m,\u001B[49m\u001B[43m \u001B[49m\u001B[43maxis\u001B[49m\u001B[38;5;241;43m=\u001B[39;49m\u001B[43maxis\u001B[49m\u001B[43m,\u001B[49m\u001B[43m \u001B[49m\u001B[43mnumeric_only\u001B[49m\u001B[38;5;241;43m=\u001B[39;49m\u001B[43mnumeric_only\u001B[49m\u001B[43m,\u001B[49m\u001B[43m \u001B[49m\u001B[43mskipna\u001B[49m\u001B[38;5;241;43m=\u001B[39;49m\u001B[43mskipna\u001B[49m\u001B[43m,\u001B[49m\u001B[43m \u001B[49m\u001B[43mddof\u001B[49m\u001B[38;5;241;43m=\u001B[39;49m\u001B[43mddof\u001B[49m\n\u001B[0;32m  10553\u001B[0m \u001B[43m\u001B[49m\u001B[43m)\u001B[49m\n",
      "File \u001B[1;32mc:\\users\\jana\\documents\\skola\\data_visualisation\\imdb-visualisation\\venv\\lib\\site-packages\\pandas\\core\\series.py:4459\u001B[0m, in \u001B[0;36mSeries._reduce\u001B[1;34m(self, op, name, axis, skipna, numeric_only, filter_type, **kwds)\u001B[0m\n\u001B[0;32m   4455\u001B[0m     \u001B[38;5;28mself\u001B[39m\u001B[38;5;241m.\u001B[39m_get_axis_number(axis)\n\u001B[0;32m   4457\u001B[0m \u001B[38;5;28;01mif\u001B[39;00m \u001B[38;5;28misinstance\u001B[39m(delegate, ExtensionArray):\n\u001B[0;32m   4458\u001B[0m     \u001B[38;5;66;03m# dispatch to ExtensionArray interface\u001B[39;00m\n\u001B[1;32m-> 4459\u001B[0m     \u001B[38;5;28;01mreturn\u001B[39;00m delegate\u001B[38;5;241m.\u001B[39m_reduce(name, skipna\u001B[38;5;241m=\u001B[39mskipna, \u001B[38;5;241m*\u001B[39m\u001B[38;5;241m*\u001B[39mkwds)\n\u001B[0;32m   4461\u001B[0m \u001B[38;5;28;01melse\u001B[39;00m:\n\u001B[0;32m   4462\u001B[0m     \u001B[38;5;66;03m# dispatch to numpy arrays\u001B[39;00m\n\u001B[0;32m   4463\u001B[0m     \u001B[38;5;28;01mif\u001B[39;00m numeric_only:\n",
      "File \u001B[1;32mc:\\users\\jana\\documents\\skola\\data_visualisation\\imdb-visualisation\\venv\\lib\\site-packages\\pandas\\core\\arrays\\sparse\\array.py:1380\u001B[0m, in \u001B[0;36mSparseArray._reduce\u001B[1;34m(self, name, skipna, **kwargs)\u001B[0m\n\u001B[0;32m   1377\u001B[0m method \u001B[38;5;241m=\u001B[39m \u001B[38;5;28mgetattr\u001B[39m(\u001B[38;5;28mself\u001B[39m, name, \u001B[38;5;28;01mNone\u001B[39;00m)\n\u001B[0;32m   1379\u001B[0m \u001B[38;5;28;01mif\u001B[39;00m method \u001B[38;5;129;01mis\u001B[39;00m \u001B[38;5;28;01mNone\u001B[39;00m:\n\u001B[1;32m-> 1380\u001B[0m     \u001B[38;5;28;01mraise\u001B[39;00m \u001B[38;5;167;01mTypeError\u001B[39;00m(\u001B[38;5;124mf\u001B[39m\u001B[38;5;124m\"\u001B[39m\u001B[38;5;124mcannot perform \u001B[39m\u001B[38;5;132;01m{\u001B[39;00mname\u001B[38;5;132;01m}\u001B[39;00m\u001B[38;5;124m with type \u001B[39m\u001B[38;5;132;01m{\u001B[39;00m\u001B[38;5;28mself\u001B[39m\u001B[38;5;241m.\u001B[39mdtype\u001B[38;5;132;01m}\u001B[39;00m\u001B[38;5;124m\"\u001B[39m)\n\u001B[0;32m   1382\u001B[0m \u001B[38;5;28;01mif\u001B[39;00m skipna:\n\u001B[0;32m   1383\u001B[0m     arr \u001B[38;5;241m=\u001B[39m \u001B[38;5;28mself\u001B[39m\n",
      "\u001B[1;31mTypeError\u001B[0m: cannot perform std with type Sparse[float64, nan]"
     ]
    }
   ],
   "source": [],
   "metadata": {
    "collapsed": false,
    "pycharm": {
     "name": "#%%\n"
    }
   }
  }
 ],
 "metadata": {
  "kernelspec": {
   "display_name": "Python 3",
   "language": "python",
   "name": "python3"
  },
  "language_info": {
   "codemirror_mode": {
    "name": "ipython",
    "version": 2
   },
   "file_extension": ".py",
   "mimetype": "text/x-python",
   "name": "python",
   "nbconvert_exporter": "python",
   "pygments_lexer": "ipython2",
   "version": "2.7.6"
  }
 },
 "nbformat": 4,
 "nbformat_minor": 0
}