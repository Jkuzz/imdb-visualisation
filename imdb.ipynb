{
 "cells": [
  {
   "cell_type": "code",
   "execution_count": 33,
   "metadata": {
    "collapsed": true
   },
   "outputs": [],
   "source": [
    "from rdflib import URIRef, Literal\n",
    "from rdflib import Graph as RDFGraph\n",
    "from rdflib.extras.external_graph_libs import rdflib_to_networkx_graph\n",
    "import pandas as pd\n",
    "import networkx as nx"
   ]
  },
  {
   "cell_type": "code",
   "execution_count": 29,
   "outputs": [
    {
     "data": {
      "text/plain": "<Graph identifier=N30d9d62784164959b4db45c0c840dca9 (<class 'rdflib.graph.Graph'>)>"
     },
     "execution_count": 29,
     "metadata": {},
     "output_type": "execute_result"
    }
   ],
   "source": [
    "graph = RDFGraph()\n",
    "graph.parse('./data/imdb-1m.ttl', format=\"turtle\")"
   ],
   "metadata": {
    "collapsed": false,
    "pycharm": {
     "name": "#%%\n"
    }
   }
  },
  {
   "cell_type": "code",
   "execution_count": 46,
   "outputs": [
    {
     "ename": "KeyboardInterrupt",
     "evalue": "",
     "output_type": "error",
     "traceback": [
      "\u001B[1;31m---------------------------------------------------------------------------\u001B[0m",
      "\u001B[1;31mKeyboardInterrupt\u001B[0m                         Traceback (most recent call last)",
      "Input \u001B[1;32mIn [46]\u001B[0m, in \u001B[0;36m<cell line: 13>\u001B[1;34m()\u001B[0m\n\u001B[0;32m      1\u001B[0m query \u001B[38;5;241m=\u001B[39m \u001B[38;5;124m\"\"\"\u001B[39m\n\u001B[0;32m      2\u001B[0m \u001B[38;5;124mCONSTRUCT \u001B[39m\u001B[38;5;124m{\u001B[39m\n\u001B[0;32m      3\u001B[0m \u001B[38;5;124m    ?actor ?p ?o .\u001B[39m\n\u001B[1;32m   (...)\u001B[0m\n\u001B[0;32m     10\u001B[0m \u001B[38;5;124m}\u001B[39m\n\u001B[0;32m     11\u001B[0m \u001B[38;5;124m\"\"\"\u001B[39m\n\u001B[1;32m---> 13\u001B[0m actors \u001B[38;5;241m=\u001B[39m \u001B[43mgraph\u001B[49m\u001B[38;5;241;43m.\u001B[39;49m\u001B[43mquery\u001B[49m\u001B[43m(\u001B[49m\u001B[43mquery\u001B[49m\u001B[43m)\u001B[49m\n",
      "File \u001B[1;32mc:\\users\\jana\\documents\\skola\\data_visualisation\\imdb-visualisation\\venv\\lib\\site-packages\\rdflib\\graph.py:1326\u001B[0m, in \u001B[0;36mGraph.query\u001B[1;34m(self, query_object, processor, result, initNs, initBindings, use_store_provided, **kwargs)\u001B[0m\n\u001B[0;32m   1323\u001B[0m \u001B[38;5;28;01mif\u001B[39;00m \u001B[38;5;129;01mnot\u001B[39;00m \u001B[38;5;28misinstance\u001B[39m(processor, query\u001B[38;5;241m.\u001B[39mProcessor):\n\u001B[0;32m   1324\u001B[0m     processor \u001B[38;5;241m=\u001B[39m plugin\u001B[38;5;241m.\u001B[39mget(processor, query\u001B[38;5;241m.\u001B[39mProcessor)(\u001B[38;5;28mself\u001B[39m)\n\u001B[1;32m-> 1326\u001B[0m \u001B[38;5;28;01mreturn\u001B[39;00m result(processor\u001B[38;5;241m.\u001B[39mquery(query_object, initBindings, initNs, \u001B[38;5;241m*\u001B[39m\u001B[38;5;241m*\u001B[39mkwargs))\n",
      "File \u001B[1;32mc:\\users\\jana\\documents\\skola\\data_visualisation\\imdb-visualisation\\venv\\lib\\site-packages\\rdflib\\plugins\\sparql\\processor.py:75\u001B[0m, in \u001B[0;36mSPARQLProcessor.query\u001B[1;34m(self, strOrQuery, initBindings, initNs, base, DEBUG)\u001B[0m\n\u001B[0;32m     73\u001B[0m \u001B[38;5;28;01melse\u001B[39;00m:\n\u001B[0;32m     74\u001B[0m     query \u001B[38;5;241m=\u001B[39m strOrQuery\n\u001B[1;32m---> 75\u001B[0m \u001B[38;5;28;01mreturn\u001B[39;00m \u001B[43mevalQuery\u001B[49m\u001B[43m(\u001B[49m\u001B[38;5;28;43mself\u001B[39;49m\u001B[38;5;241;43m.\u001B[39;49m\u001B[43mgraph\u001B[49m\u001B[43m,\u001B[49m\u001B[43m \u001B[49m\u001B[43mquery\u001B[49m\u001B[43m,\u001B[49m\u001B[43m \u001B[49m\u001B[43minitBindings\u001B[49m\u001B[43m,\u001B[49m\u001B[43m \u001B[49m\u001B[43mbase\u001B[49m\u001B[43m)\u001B[49m\n",
      "File \u001B[1;32mc:\\users\\jana\\documents\\skola\\data_visualisation\\imdb-visualisation\\venv\\lib\\site-packages\\rdflib\\plugins\\sparql\\evaluate.py:586\u001B[0m, in \u001B[0;36mevalQuery\u001B[1;34m(graph, query, initBindings, base)\u001B[0m\n\u001B[0;32m    583\u001B[0m             g \u001B[38;5;241m=\u001B[39m d\u001B[38;5;241m.\u001B[39mnamed\n\u001B[0;32m    584\u001B[0m             ctx\u001B[38;5;241m.\u001B[39mload(g, default\u001B[38;5;241m=\u001B[39m\u001B[38;5;28;01mFalse\u001B[39;00m)\n\u001B[1;32m--> 586\u001B[0m \u001B[38;5;28;01mreturn\u001B[39;00m \u001B[43mevalPart\u001B[49m\u001B[43m(\u001B[49m\u001B[43mctx\u001B[49m\u001B[43m,\u001B[49m\u001B[43m \u001B[49m\u001B[43mmain\u001B[49m\u001B[43m)\u001B[49m\n",
      "File \u001B[1;32mc:\\users\\jana\\documents\\skola\\data_visualisation\\imdb-visualisation\\venv\\lib\\site-packages\\rdflib\\plugins\\sparql\\evaluate.py:289\u001B[0m, in \u001B[0;36mevalPart\u001B[1;34m(ctx, part)\u001B[0m\n\u001B[0;32m    287\u001B[0m     \u001B[38;5;28;01mreturn\u001B[39;00m evalAskQuery(ctx, part)\n\u001B[0;32m    288\u001B[0m \u001B[38;5;28;01melif\u001B[39;00m part\u001B[38;5;241m.\u001B[39mname \u001B[38;5;241m==\u001B[39m \u001B[38;5;124m\"\u001B[39m\u001B[38;5;124mConstructQuery\u001B[39m\u001B[38;5;124m\"\u001B[39m:\n\u001B[1;32m--> 289\u001B[0m     \u001B[38;5;28;01mreturn\u001B[39;00m \u001B[43mevalConstructQuery\u001B[49m\u001B[43m(\u001B[49m\u001B[43mctx\u001B[49m\u001B[43m,\u001B[49m\u001B[43m \u001B[49m\u001B[43mpart\u001B[49m\u001B[43m)\u001B[49m\n\u001B[0;32m    291\u001B[0m \u001B[38;5;28;01melif\u001B[39;00m part\u001B[38;5;241m.\u001B[39mname \u001B[38;5;241m==\u001B[39m \u001B[38;5;124m\"\u001B[39m\u001B[38;5;124mServiceGraphPattern\u001B[39m\u001B[38;5;124m\"\u001B[39m:\n\u001B[0;32m    292\u001B[0m     \u001B[38;5;28;01mreturn\u001B[39;00m evalServiceQuery(ctx, part)\n",
      "File \u001B[1;32mc:\\users\\jana\\documents\\skola\\data_visualisation\\imdb-visualisation\\venv\\lib\\site-packages\\rdflib\\plugins\\sparql\\evaluate.py:542\u001B[0m, in \u001B[0;36mevalConstructQuery\u001B[1;34m(ctx, query)\u001B[0m\n\u001B[0;32m    538\u001B[0m     template \u001B[38;5;241m=\u001B[39m query\u001B[38;5;241m.\u001B[39mp\u001B[38;5;241m.\u001B[39mp\u001B[38;5;241m.\u001B[39mtriples  \u001B[38;5;66;03m# query->project->bgp ...\u001B[39;00m\n\u001B[0;32m    540\u001B[0m graph \u001B[38;5;241m=\u001B[39m Graph()\n\u001B[1;32m--> 542\u001B[0m \u001B[38;5;28;01mfor\u001B[39;00m c \u001B[38;5;129;01min\u001B[39;00m evalPart(ctx, query\u001B[38;5;241m.\u001B[39mp):\n\u001B[0;32m    543\u001B[0m     graph \u001B[38;5;241m+\u001B[39m\u001B[38;5;241m=\u001B[39m _fillTemplate(template, c)\n\u001B[0;32m    545\u001B[0m res \u001B[38;5;241m=\u001B[39m {}\n",
      "File \u001B[1;32mc:\\users\\jana\\documents\\skola\\data_visualisation\\imdb-visualisation\\venv\\lib\\site-packages\\rdflib\\plugins\\sparql\\evaluate.py:510\u001B[0m, in \u001B[0;36m<genexpr>\u001B[1;34m(.0)\u001B[0m\n\u001B[0;32m    507\u001B[0m \u001B[38;5;28;01mdef\u001B[39;00m \u001B[38;5;21mevalProject\u001B[39m(ctx, project):\n\u001B[0;32m    508\u001B[0m     res \u001B[38;5;241m=\u001B[39m evalPart(ctx, project\u001B[38;5;241m.\u001B[39mp)\n\u001B[1;32m--> 510\u001B[0m     \u001B[38;5;28;01mreturn\u001B[39;00m (row\u001B[38;5;241m.\u001B[39mproject(project\u001B[38;5;241m.\u001B[39mPV) \u001B[38;5;28;01mfor\u001B[39;00m row \u001B[38;5;129;01min\u001B[39;00m res)\n",
      "File \u001B[1;32mc:\\users\\jana\\documents\\skola\\data_visualisation\\imdb-visualisation\\venv\\lib\\site-packages\\rdflib\\plugins\\sparql\\evaluate.py:86\u001B[0m, in \u001B[0;36mevalBGP\u001B[1;34m(ctx, bgp)\u001B[0m\n\u001B[0;32m     83\u001B[0m \u001B[38;5;28;01mexcept\u001B[39;00m AlreadyBound:\n\u001B[0;32m     84\u001B[0m     \u001B[38;5;28;01mcontinue\u001B[39;00m\n\u001B[1;32m---> 86\u001B[0m \u001B[38;5;28;01mfor\u001B[39;00m x \u001B[38;5;129;01min\u001B[39;00m evalBGP(c, bgp[\u001B[38;5;241m1\u001B[39m:]):\n\u001B[0;32m     87\u001B[0m     \u001B[38;5;28;01myield\u001B[39;00m x\n",
      "File \u001B[1;32mc:\\users\\jana\\documents\\skola\\data_visualisation\\imdb-visualisation\\venv\\lib\\site-packages\\rdflib\\plugins\\sparql\\evaluate.py:67\u001B[0m, in \u001B[0;36mevalBGP\u001B[1;34m(ctx, bgp)\u001B[0m\n\u001B[0;32m     65\u001B[0m \u001B[38;5;28;01mfor\u001B[39;00m ss, sp, so \u001B[38;5;129;01min\u001B[39;00m ctx\u001B[38;5;241m.\u001B[39mgraph\u001B[38;5;241m.\u001B[39mtriples((_s, _p, _o)):\n\u001B[0;32m     66\u001B[0m     \u001B[38;5;28;01mif\u001B[39;00m \u001B[38;5;28;01mNone\u001B[39;00m \u001B[38;5;129;01min\u001B[39;00m (_s, _p, _o):\n\u001B[1;32m---> 67\u001B[0m         c \u001B[38;5;241m=\u001B[39m \u001B[43mctx\u001B[49m\u001B[38;5;241;43m.\u001B[39;49m\u001B[43mpush\u001B[49m\u001B[43m(\u001B[49m\u001B[43m)\u001B[49m\n\u001B[0;32m     68\u001B[0m     \u001B[38;5;28;01melse\u001B[39;00m:\n\u001B[0;32m     69\u001B[0m         c \u001B[38;5;241m=\u001B[39m ctx\n",
      "File \u001B[1;32mc:\\users\\jana\\documents\\skola\\data_visualisation\\imdb-visualisation\\venv\\lib\\site-packages\\rdflib\\plugins\\sparql\\sparql.py:349\u001B[0m, in \u001B[0;36mQueryContext.push\u001B[1;34m(self)\u001B[0m\n\u001B[0;32m    348\u001B[0m \u001B[38;5;28;01mdef\u001B[39;00m \u001B[38;5;21mpush\u001B[39m(\u001B[38;5;28mself\u001B[39m):\n\u001B[1;32m--> 349\u001B[0m     r \u001B[38;5;241m=\u001B[39m \u001B[38;5;28mself\u001B[39m\u001B[38;5;241m.\u001B[39mclone(\u001B[43mBindings\u001B[49m\u001B[43m(\u001B[49m\u001B[38;5;28;43mself\u001B[39;49m\u001B[38;5;241;43m.\u001B[39;49m\u001B[43mbindings\u001B[49m\u001B[43m)\u001B[49m)\n\u001B[0;32m    350\u001B[0m     \u001B[38;5;28;01mreturn\u001B[39;00m r\n",
      "File \u001B[1;32mc:\\users\\jana\\documents\\skola\\data_visualisation\\imdb-visualisation\\venv\\lib\\site-packages\\rdflib\\plugins\\sparql\\sparql.py:51\u001B[0m, in \u001B[0;36mBindings.__init__\u001B[1;34m(self, outer, d)\u001B[0m\n\u001B[0;32m     50\u001B[0m \u001B[38;5;28;01mdef\u001B[39;00m \u001B[38;5;21m__init__\u001B[39m(\u001B[38;5;28mself\u001B[39m, outer\u001B[38;5;241m=\u001B[39m\u001B[38;5;28;01mNone\u001B[39;00m, d\u001B[38;5;241m=\u001B[39m[]):\n\u001B[1;32m---> 51\u001B[0m     \u001B[38;5;28mself\u001B[39m\u001B[38;5;241m.\u001B[39m_d \u001B[38;5;241m=\u001B[39m \u001B[38;5;28;43mdict\u001B[39;49m(d)\n\u001B[0;32m     52\u001B[0m     \u001B[38;5;28mself\u001B[39m\u001B[38;5;241m.\u001B[39mouter \u001B[38;5;241m=\u001B[39m outer\n",
      "\u001B[1;31mKeyboardInterrupt\u001B[0m: "
     ]
    }
   ],
   "source": [
    "query = \"\"\"\n",
    "CONSTRUCT {\n",
    "    ?actor ?p ?o .\n",
    "    ?actor ns1:PlayedIn ?movie\n",
    "}\n",
    "WHERE {\n",
    "    ?actor a schema:Person .\n",
    "    ?movie a schema:Movie .\n",
    "    ?movie schema:Actor ?actor\n",
    "}\n",
    "\"\"\"\n",
    "\n",
    "actors = graph.query(query)"
   ],
   "metadata": {
    "collapsed": false,
    "pycharm": {
     "name": "#%%\n"
    }
   }
  },
  {
   "cell_type": "code",
   "execution_count": 34,
   "outputs": [],
   "source": [
    "g = rdflib_to_networkx_graph(graph)"
   ],
   "metadata": {
    "collapsed": false,
    "pycharm": {
     "name": "#%%\n"
    }
   }
  },
  {
   "cell_type": "code",
   "execution_count": 41,
   "outputs": [
    {
     "data": {
      "text/plain": "dict_keys([])"
     },
     "execution_count": 41,
     "metadata": {},
     "output_type": "execute_result"
    }
   ],
   "source": [],
   "metadata": {
    "collapsed": false,
    "pycharm": {
     "name": "#%%\n"
    }
   }
  },
  {
   "cell_type": "code",
   "execution_count": null,
   "outputs": [],
   "source": [],
   "metadata": {
    "collapsed": false,
    "pycharm": {
     "name": "#%%\n"
    }
   }
  }
 ],
 "metadata": {
  "kernelspec": {
   "display_name": "Python 3",
   "language": "python",
   "name": "python3"
  },
  "language_info": {
   "codemirror_mode": {
    "name": "ipython",
    "version": 2
   },
   "file_extension": ".py",
   "mimetype": "text/x-python",
   "name": "python",
   "nbconvert_exporter": "python",
   "pygments_lexer": "ipython2",
   "version": "2.7.6"
  }
 },
 "nbformat": 4,
 "nbformat_minor": 0
}